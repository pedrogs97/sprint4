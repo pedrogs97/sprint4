{
 "cells": [
  {
   "cell_type": "markdown",
   "metadata": {},
   "source": [
    "## Importação dos dados"
   ]
  },
  {
   "cell_type": "code",
   "execution_count": 10,
   "metadata": {},
   "outputs": [
    {
     "data": {
      "text/html": [
       "<div>\n",
       "<style scoped>\n",
       "    .dataframe tbody tr th:only-of-type {\n",
       "        vertical-align: middle;\n",
       "    }\n",
       "\n",
       "    .dataframe tbody tr th {\n",
       "        vertical-align: top;\n",
       "    }\n",
       "\n",
       "    .dataframe thead th {\n",
       "        text-align: right;\n",
       "    }\n",
       "</style>\n",
       "<table border=\"1\" class=\"dataframe\">\n",
       "  <thead>\n",
       "    <tr style=\"text-align: right;\">\n",
       "      <th></th>\n",
       "      <th>age</th>\n",
       "      <th>gender</th>\n",
       "      <th>height_cm</th>\n",
       "      <th>weight_kg</th>\n",
       "      <th>body fat_%</th>\n",
       "      <th>diastolic</th>\n",
       "      <th>systolic</th>\n",
       "      <th>gripForce</th>\n",
       "      <th>sit and bend forward_cm</th>\n",
       "      <th>sit-ups counts</th>\n",
       "      <th>broad jump_cm</th>\n",
       "      <th>class</th>\n",
       "    </tr>\n",
       "  </thead>\n",
       "  <tbody>\n",
       "    <tr>\n",
       "      <th>0</th>\n",
       "      <td>27.0</td>\n",
       "      <td>M</td>\n",
       "      <td>172.3</td>\n",
       "      <td>75.24</td>\n",
       "      <td>21.3</td>\n",
       "      <td>80.0</td>\n",
       "      <td>130.0</td>\n",
       "      <td>54.9</td>\n",
       "      <td>18.4</td>\n",
       "      <td>60.0</td>\n",
       "      <td>217.0</td>\n",
       "      <td>C</td>\n",
       "    </tr>\n",
       "    <tr>\n",
       "      <th>1</th>\n",
       "      <td>25.0</td>\n",
       "      <td>M</td>\n",
       "      <td>165.0</td>\n",
       "      <td>55.80</td>\n",
       "      <td>15.7</td>\n",
       "      <td>77.0</td>\n",
       "      <td>126.0</td>\n",
       "      <td>36.4</td>\n",
       "      <td>16.3</td>\n",
       "      <td>53.0</td>\n",
       "      <td>229.0</td>\n",
       "      <td>A</td>\n",
       "    </tr>\n",
       "    <tr>\n",
       "      <th>2</th>\n",
       "      <td>31.0</td>\n",
       "      <td>M</td>\n",
       "      <td>179.6</td>\n",
       "      <td>78.00</td>\n",
       "      <td>20.1</td>\n",
       "      <td>92.0</td>\n",
       "      <td>152.0</td>\n",
       "      <td>44.8</td>\n",
       "      <td>12.0</td>\n",
       "      <td>49.0</td>\n",
       "      <td>181.0</td>\n",
       "      <td>C</td>\n",
       "    </tr>\n",
       "    <tr>\n",
       "      <th>3</th>\n",
       "      <td>32.0</td>\n",
       "      <td>M</td>\n",
       "      <td>174.5</td>\n",
       "      <td>71.10</td>\n",
       "      <td>18.4</td>\n",
       "      <td>76.0</td>\n",
       "      <td>147.0</td>\n",
       "      <td>41.4</td>\n",
       "      <td>15.2</td>\n",
       "      <td>53.0</td>\n",
       "      <td>219.0</td>\n",
       "      <td>B</td>\n",
       "    </tr>\n",
       "    <tr>\n",
       "      <th>4</th>\n",
       "      <td>28.0</td>\n",
       "      <td>M</td>\n",
       "      <td>173.8</td>\n",
       "      <td>67.70</td>\n",
       "      <td>17.1</td>\n",
       "      <td>70.0</td>\n",
       "      <td>127.0</td>\n",
       "      <td>43.5</td>\n",
       "      <td>27.1</td>\n",
       "      <td>45.0</td>\n",
       "      <td>217.0</td>\n",
       "      <td>B</td>\n",
       "    </tr>\n",
       "  </tbody>\n",
       "</table>\n",
       "</div>"
      ],
      "text/plain": [
       "    age gender  height_cm  weight_kg  body fat_%  diastolic  systolic  \\\n",
       "0  27.0      M      172.3      75.24        21.3       80.0     130.0   \n",
       "1  25.0      M      165.0      55.80        15.7       77.0     126.0   \n",
       "2  31.0      M      179.6      78.00        20.1       92.0     152.0   \n",
       "3  32.0      M      174.5      71.10        18.4       76.0     147.0   \n",
       "4  28.0      M      173.8      67.70        17.1       70.0     127.0   \n",
       "\n",
       "   gripForce  sit and bend forward_cm  sit-ups counts  broad jump_cm class  \n",
       "0       54.9                     18.4            60.0          217.0     C  \n",
       "1       36.4                     16.3            53.0          229.0     A  \n",
       "2       44.8                     12.0            49.0          181.0     C  \n",
       "3       41.4                     15.2            53.0          219.0     B  \n",
       "4       43.5                     27.1            45.0          217.0     B  "
      ]
     },
     "execution_count": 10,
     "metadata": {},
     "output_type": "execute_result"
    }
   ],
   "source": [
    "import pandas as pd\n",
    "\n",
    "# Carregar os dados do arquivo CSV\n",
    "file_path = './bodyPerformance.csv'\n",
    "df = pd.read_csv(file_path)\n",
    "\n",
    "# Exibir as primeiras linhas do DataFrame para inspecionar os dados\n",
    "df.head()"
   ]
  },
  {
   "cell_type": "markdown",
   "metadata": {},
   "source": [
    "## Observando mais o dataset"
   ]
  },
  {
   "cell_type": "code",
   "execution_count": 11,
   "metadata": {},
   "outputs": [
    {
     "name": "stdout",
     "output_type": "stream",
     "text": [
      "<class 'pandas.core.frame.DataFrame'>\n",
      "RangeIndex: 13298 entries, 0 to 13297\n",
      "Data columns (total 12 columns):\n",
      " #   Column                   Non-Null Count  Dtype  \n",
      "---  ------                   --------------  -----  \n",
      " 0   age                      13298 non-null  float64\n",
      " 1   gender                   13298 non-null  object \n",
      " 2   height_cm                13298 non-null  float64\n",
      " 3   weight_kg                13298 non-null  float64\n",
      " 4   body fat_%               13298 non-null  float64\n",
      " 5   diastolic                13298 non-null  float64\n",
      " 6   systolic                 13298 non-null  float64\n",
      " 7   gripForce                13298 non-null  float64\n",
      " 8   sit and bend forward_cm  13298 non-null  float64\n",
      " 9   sit-ups counts           13298 non-null  float64\n",
      " 10  broad jump_cm            13298 non-null  float64\n",
      " 11  class                    13298 non-null  object \n",
      "dtypes: float64(10), object(2)\n",
      "memory usage: 1.2+ MB\n"
     ]
    },
    {
     "data": {
      "text/html": [
       "<div>\n",
       "<style scoped>\n",
       "    .dataframe tbody tr th:only-of-type {\n",
       "        vertical-align: middle;\n",
       "    }\n",
       "\n",
       "    .dataframe tbody tr th {\n",
       "        vertical-align: top;\n",
       "    }\n",
       "\n",
       "    .dataframe thead th {\n",
       "        text-align: right;\n",
       "    }\n",
       "</style>\n",
       "<table border=\"1\" class=\"dataframe\">\n",
       "  <thead>\n",
       "    <tr style=\"text-align: right;\">\n",
       "      <th></th>\n",
       "      <th>age</th>\n",
       "      <th>height_cm</th>\n",
       "      <th>weight_kg</th>\n",
       "      <th>body fat_%</th>\n",
       "      <th>diastolic</th>\n",
       "      <th>systolic</th>\n",
       "      <th>gripForce</th>\n",
       "      <th>sit and bend forward_cm</th>\n",
       "      <th>sit-ups counts</th>\n",
       "      <th>broad jump_cm</th>\n",
       "    </tr>\n",
       "  </thead>\n",
       "  <tbody>\n",
       "    <tr>\n",
       "      <th>count</th>\n",
       "      <td>13298.000000</td>\n",
       "      <td>13298.000000</td>\n",
       "      <td>13298.000000</td>\n",
       "      <td>13298.000000</td>\n",
       "      <td>13298.000000</td>\n",
       "      <td>13298.000000</td>\n",
       "      <td>13298.000000</td>\n",
       "      <td>13298.000000</td>\n",
       "      <td>13298.000000</td>\n",
       "      <td>13298.000000</td>\n",
       "    </tr>\n",
       "    <tr>\n",
       "      <th>mean</th>\n",
       "      <td>36.781095</td>\n",
       "      <td>168.563025</td>\n",
       "      <td>67.457663</td>\n",
       "      <td>23.244159</td>\n",
       "      <td>78.800504</td>\n",
       "      <td>130.238600</td>\n",
       "      <td>36.970214</td>\n",
       "      <td>15.215844</td>\n",
       "      <td>39.763122</td>\n",
       "      <td>190.137773</td>\n",
       "    </tr>\n",
       "    <tr>\n",
       "      <th>std</th>\n",
       "      <td>13.629747</td>\n",
       "      <td>8.432889</td>\n",
       "      <td>11.955535</td>\n",
       "      <td>7.256725</td>\n",
       "      <td>10.751409</td>\n",
       "      <td>14.723199</td>\n",
       "      <td>10.623391</td>\n",
       "      <td>8.452996</td>\n",
       "      <td>14.280259</td>\n",
       "      <td>39.870227</td>\n",
       "    </tr>\n",
       "    <tr>\n",
       "      <th>min</th>\n",
       "      <td>21.000000</td>\n",
       "      <td>125.000000</td>\n",
       "      <td>26.300000</td>\n",
       "      <td>3.000000</td>\n",
       "      <td>0.000000</td>\n",
       "      <td>0.000000</td>\n",
       "      <td>0.000000</td>\n",
       "      <td>-25.000000</td>\n",
       "      <td>0.000000</td>\n",
       "      <td>0.000000</td>\n",
       "    </tr>\n",
       "    <tr>\n",
       "      <th>25%</th>\n",
       "      <td>25.000000</td>\n",
       "      <td>162.400000</td>\n",
       "      <td>58.200000</td>\n",
       "      <td>18.000000</td>\n",
       "      <td>71.000000</td>\n",
       "      <td>120.000000</td>\n",
       "      <td>27.500000</td>\n",
       "      <td>10.900000</td>\n",
       "      <td>30.000000</td>\n",
       "      <td>162.000000</td>\n",
       "    </tr>\n",
       "    <tr>\n",
       "      <th>50%</th>\n",
       "      <td>32.000000</td>\n",
       "      <td>169.200000</td>\n",
       "      <td>67.400000</td>\n",
       "      <td>22.800000</td>\n",
       "      <td>79.000000</td>\n",
       "      <td>130.000000</td>\n",
       "      <td>37.900000</td>\n",
       "      <td>16.200000</td>\n",
       "      <td>41.000000</td>\n",
       "      <td>193.000000</td>\n",
       "    </tr>\n",
       "    <tr>\n",
       "      <th>75%</th>\n",
       "      <td>48.000000</td>\n",
       "      <td>174.800000</td>\n",
       "      <td>75.390000</td>\n",
       "      <td>28.000000</td>\n",
       "      <td>86.000000</td>\n",
       "      <td>141.000000</td>\n",
       "      <td>45.200000</td>\n",
       "      <td>20.800000</td>\n",
       "      <td>50.000000</td>\n",
       "      <td>221.000000</td>\n",
       "    </tr>\n",
       "    <tr>\n",
       "      <th>max</th>\n",
       "      <td>64.000000</td>\n",
       "      <td>193.800000</td>\n",
       "      <td>138.100000</td>\n",
       "      <td>78.400000</td>\n",
       "      <td>156.200000</td>\n",
       "      <td>201.000000</td>\n",
       "      <td>70.500000</td>\n",
       "      <td>213.000000</td>\n",
       "      <td>80.000000</td>\n",
       "      <td>303.000000</td>\n",
       "    </tr>\n",
       "  </tbody>\n",
       "</table>\n",
       "</div>"
      ],
      "text/plain": [
       "                age     height_cm     weight_kg    body fat_%     diastolic  \\\n",
       "count  13298.000000  13298.000000  13298.000000  13298.000000  13298.000000   \n",
       "mean      36.781095    168.563025     67.457663     23.244159     78.800504   \n",
       "std       13.629747      8.432889     11.955535      7.256725     10.751409   \n",
       "min       21.000000    125.000000     26.300000      3.000000      0.000000   \n",
       "25%       25.000000    162.400000     58.200000     18.000000     71.000000   \n",
       "50%       32.000000    169.200000     67.400000     22.800000     79.000000   \n",
       "75%       48.000000    174.800000     75.390000     28.000000     86.000000   \n",
       "max       64.000000    193.800000    138.100000     78.400000    156.200000   \n",
       "\n",
       "           systolic     gripForce  sit and bend forward_cm  sit-ups counts  \\\n",
       "count  13298.000000  13298.000000             13298.000000    13298.000000   \n",
       "mean     130.238600     36.970214                15.215844       39.763122   \n",
       "std       14.723199     10.623391                 8.452996       14.280259   \n",
       "min        0.000000      0.000000               -25.000000        0.000000   \n",
       "25%      120.000000     27.500000                10.900000       30.000000   \n",
       "50%      130.000000     37.900000                16.200000       41.000000   \n",
       "75%      141.000000     45.200000                20.800000       50.000000   \n",
       "max      201.000000     70.500000               213.000000       80.000000   \n",
       "\n",
       "       broad jump_cm  \n",
       "count   13298.000000  \n",
       "mean      190.137773  \n",
       "std        39.870227  \n",
       "min         0.000000  \n",
       "25%       162.000000  \n",
       "50%       193.000000  \n",
       "75%       221.000000  \n",
       "max       303.000000  "
      ]
     },
     "execution_count": 11,
     "metadata": {},
     "output_type": "execute_result"
    }
   ],
   "source": [
    "df.info()\n",
    "df.describe()"
   ]
  },
  {
   "cell_type": "markdown",
   "metadata": {},
   "source": [
    "## Preparação de colunas não númericas"
   ]
  },
  {
   "cell_type": "code",
   "execution_count": 12,
   "metadata": {},
   "outputs": [],
   "source": [
    "from sklearn.preprocessing import LabelEncoder\n",
    "label_encoder = LabelEncoder()\n",
    "df['gender'] = label_encoder.fit_transform(df['gender'])\n",
    "df['class'] = label_encoder.fit_transform(df['class'])"
   ]
  },
  {
   "cell_type": "markdown",
   "metadata": {},
   "source": [
    "## Separação de entrada e saída"
   ]
  },
  {
   "cell_type": "code",
   "execution_count": 13,
   "metadata": {},
   "outputs": [],
   "source": [
    "X = df.drop('class', axis=1)\n",
    "y = df['class']"
   ]
  },
  {
   "cell_type": "markdown",
   "metadata": {},
   "source": [
    "Entrada"
   ]
  },
  {
   "cell_type": "code",
   "execution_count": 14,
   "metadata": {},
   "outputs": [
    {
     "data": {
      "text/html": [
       "<div>\n",
       "<style scoped>\n",
       "    .dataframe tbody tr th:only-of-type {\n",
       "        vertical-align: middle;\n",
       "    }\n",
       "\n",
       "    .dataframe tbody tr th {\n",
       "        vertical-align: top;\n",
       "    }\n",
       "\n",
       "    .dataframe thead th {\n",
       "        text-align: right;\n",
       "    }\n",
       "</style>\n",
       "<table border=\"1\" class=\"dataframe\">\n",
       "  <thead>\n",
       "    <tr style=\"text-align: right;\">\n",
       "      <th></th>\n",
       "      <th>age</th>\n",
       "      <th>gender</th>\n",
       "      <th>height_cm</th>\n",
       "      <th>weight_kg</th>\n",
       "      <th>body fat_%</th>\n",
       "      <th>diastolic</th>\n",
       "      <th>systolic</th>\n",
       "      <th>gripForce</th>\n",
       "      <th>sit and bend forward_cm</th>\n",
       "      <th>sit-ups counts</th>\n",
       "      <th>broad jump_cm</th>\n",
       "    </tr>\n",
       "  </thead>\n",
       "  <tbody>\n",
       "    <tr>\n",
       "      <th>count</th>\n",
       "      <td>13298.000000</td>\n",
       "      <td>13298.000000</td>\n",
       "      <td>13298.000000</td>\n",
       "      <td>13298.000000</td>\n",
       "      <td>13298.000000</td>\n",
       "      <td>13298.000000</td>\n",
       "      <td>13298.000000</td>\n",
       "      <td>13298.000000</td>\n",
       "      <td>13298.000000</td>\n",
       "      <td>13298.000000</td>\n",
       "      <td>13298.000000</td>\n",
       "    </tr>\n",
       "    <tr>\n",
       "      <th>mean</th>\n",
       "      <td>36.781095</td>\n",
       "      <td>0.632125</td>\n",
       "      <td>168.563025</td>\n",
       "      <td>67.457663</td>\n",
       "      <td>23.244159</td>\n",
       "      <td>78.800504</td>\n",
       "      <td>130.238600</td>\n",
       "      <td>36.970214</td>\n",
       "      <td>15.215844</td>\n",
       "      <td>39.763122</td>\n",
       "      <td>190.137773</td>\n",
       "    </tr>\n",
       "    <tr>\n",
       "      <th>std</th>\n",
       "      <td>13.629747</td>\n",
       "      <td>0.482245</td>\n",
       "      <td>8.432889</td>\n",
       "      <td>11.955535</td>\n",
       "      <td>7.256725</td>\n",
       "      <td>10.751409</td>\n",
       "      <td>14.723199</td>\n",
       "      <td>10.623391</td>\n",
       "      <td>8.452996</td>\n",
       "      <td>14.280259</td>\n",
       "      <td>39.870227</td>\n",
       "    </tr>\n",
       "    <tr>\n",
       "      <th>min</th>\n",
       "      <td>21.000000</td>\n",
       "      <td>0.000000</td>\n",
       "      <td>125.000000</td>\n",
       "      <td>26.300000</td>\n",
       "      <td>3.000000</td>\n",
       "      <td>0.000000</td>\n",
       "      <td>0.000000</td>\n",
       "      <td>0.000000</td>\n",
       "      <td>-25.000000</td>\n",
       "      <td>0.000000</td>\n",
       "      <td>0.000000</td>\n",
       "    </tr>\n",
       "    <tr>\n",
       "      <th>25%</th>\n",
       "      <td>25.000000</td>\n",
       "      <td>0.000000</td>\n",
       "      <td>162.400000</td>\n",
       "      <td>58.200000</td>\n",
       "      <td>18.000000</td>\n",
       "      <td>71.000000</td>\n",
       "      <td>120.000000</td>\n",
       "      <td>27.500000</td>\n",
       "      <td>10.900000</td>\n",
       "      <td>30.000000</td>\n",
       "      <td>162.000000</td>\n",
       "    </tr>\n",
       "    <tr>\n",
       "      <th>50%</th>\n",
       "      <td>32.000000</td>\n",
       "      <td>1.000000</td>\n",
       "      <td>169.200000</td>\n",
       "      <td>67.400000</td>\n",
       "      <td>22.800000</td>\n",
       "      <td>79.000000</td>\n",
       "      <td>130.000000</td>\n",
       "      <td>37.900000</td>\n",
       "      <td>16.200000</td>\n",
       "      <td>41.000000</td>\n",
       "      <td>193.000000</td>\n",
       "    </tr>\n",
       "    <tr>\n",
       "      <th>75%</th>\n",
       "      <td>48.000000</td>\n",
       "      <td>1.000000</td>\n",
       "      <td>174.800000</td>\n",
       "      <td>75.390000</td>\n",
       "      <td>28.000000</td>\n",
       "      <td>86.000000</td>\n",
       "      <td>141.000000</td>\n",
       "      <td>45.200000</td>\n",
       "      <td>20.800000</td>\n",
       "      <td>50.000000</td>\n",
       "      <td>221.000000</td>\n",
       "    </tr>\n",
       "    <tr>\n",
       "      <th>max</th>\n",
       "      <td>64.000000</td>\n",
       "      <td>1.000000</td>\n",
       "      <td>193.800000</td>\n",
       "      <td>138.100000</td>\n",
       "      <td>78.400000</td>\n",
       "      <td>156.200000</td>\n",
       "      <td>201.000000</td>\n",
       "      <td>70.500000</td>\n",
       "      <td>213.000000</td>\n",
       "      <td>80.000000</td>\n",
       "      <td>303.000000</td>\n",
       "    </tr>\n",
       "  </tbody>\n",
       "</table>\n",
       "</div>"
      ],
      "text/plain": [
       "                age        gender     height_cm     weight_kg    body fat_%  \\\n",
       "count  13298.000000  13298.000000  13298.000000  13298.000000  13298.000000   \n",
       "mean      36.781095      0.632125    168.563025     67.457663     23.244159   \n",
       "std       13.629747      0.482245      8.432889     11.955535      7.256725   \n",
       "min       21.000000      0.000000    125.000000     26.300000      3.000000   \n",
       "25%       25.000000      0.000000    162.400000     58.200000     18.000000   \n",
       "50%       32.000000      1.000000    169.200000     67.400000     22.800000   \n",
       "75%       48.000000      1.000000    174.800000     75.390000     28.000000   \n",
       "max       64.000000      1.000000    193.800000    138.100000     78.400000   \n",
       "\n",
       "          diastolic      systolic     gripForce  sit and bend forward_cm  \\\n",
       "count  13298.000000  13298.000000  13298.000000             13298.000000   \n",
       "mean      78.800504    130.238600     36.970214                15.215844   \n",
       "std       10.751409     14.723199     10.623391                 8.452996   \n",
       "min        0.000000      0.000000      0.000000               -25.000000   \n",
       "25%       71.000000    120.000000     27.500000                10.900000   \n",
       "50%       79.000000    130.000000     37.900000                16.200000   \n",
       "75%       86.000000    141.000000     45.200000                20.800000   \n",
       "max      156.200000    201.000000     70.500000               213.000000   \n",
       "\n",
       "       sit-ups counts  broad jump_cm  \n",
       "count    13298.000000   13298.000000  \n",
       "mean        39.763122     190.137773  \n",
       "std         14.280259      39.870227  \n",
       "min          0.000000       0.000000  \n",
       "25%         30.000000     162.000000  \n",
       "50%         41.000000     193.000000  \n",
       "75%         50.000000     221.000000  \n",
       "max         80.000000     303.000000  "
      ]
     },
     "execution_count": 14,
     "metadata": {},
     "output_type": "execute_result"
    }
   ],
   "source": [
    "X.describe()\n"
   ]
  },
  {
   "cell_type": "markdown",
   "metadata": {},
   "source": [
    "Saída"
   ]
  },
  {
   "cell_type": "code",
   "execution_count": 15,
   "metadata": {},
   "outputs": [
    {
     "data": {
      "text/plain": [
       "count    13298.000000\n",
       "mean         1.500000\n",
       "std          1.118009\n",
       "min          0.000000\n",
       "25%          1.000000\n",
       "50%          1.000000\n",
       "75%          2.750000\n",
       "max          3.000000\n",
       "Name: class, dtype: float64"
      ]
     },
     "execution_count": 15,
     "metadata": {},
     "output_type": "execute_result"
    }
   ],
   "source": [
    "y.describe()"
   ]
  },
  {
   "cell_type": "markdown",
   "metadata": {},
   "source": [
    "## Sepração de teste e treinamento"
   ]
  },
  {
   "cell_type": "code",
   "execution_count": 16,
   "metadata": {},
   "outputs": [],
   "source": [
    "from sklearn.model_selection import train_test_split\n",
    "from sklearn.model_selection import StratifiedKFold\n",
    "seed = 42\n",
    "\n",
    "X_train, X_test, y_train, y_test = train_test_split(X, y, test_size=0.3, random_state=seed, shuffle=True, stratify=y)\n",
    "num_particoes = 5\n",
    "kfold = StratifiedKFold(n_splits=num_particoes, shuffle=True, random_state=seed)"
   ]
  },
  {
   "cell_type": "markdown",
   "metadata": {},
   "source": [
    "## Comparação de modelos\n",
    "\n",
    "Comparação da acurácia e desvio padrão"
   ]
  },
  {
   "cell_type": "code",
   "execution_count": 17,
   "metadata": {},
   "outputs": [
    {
     "name": "stdout",
     "output_type": "stream",
     "text": [
      "KNN-orig: 0.550 (+/- 0.009)\n",
      "TREE-orig: 0.631 (+/- 0.007)\n",
      "NB-orig: 0.542 (+/- 0.007)\n",
      "SVM-orig: 0.607 (+/- 0.008)\n",
      "KNN-padr: 0.585 (+/- 0.007)\n",
      "TREE-padr: 0.631 (+/- 0.005)\n",
      "NB-padr: 0.542 (+/- 0.007)\n",
      "SVM-padr: 0.687 (+/- 0.005)\n",
      "KNN-norm: 0.551 (+/- 0.029)\n",
      "TREE-norm: 0.631 (+/- 0.006)\n",
      "NB-norm: 0.542 (+/- 0.007)\n",
      "SVM-norm: 0.630 (+/- 0.021)\n"
     ]
    }
   ],
   "source": [
    "from sklearn.svm import SVC\n",
    "from sklearn.tree import DecisionTreeClassifier\n",
    "from sklearn.neighbors import KNeighborsClassifier\n",
    "from sklearn.naive_bayes import GaussianNB\n",
    "from sklearn.model_selection import cross_val_score\n",
    "from sklearn.pipeline import Pipeline\n",
    "from sklearn.preprocessing import MinMaxScaler, StandardScaler\n",
    "\n",
    "\n",
    "pipelines = []\n",
    "results = []\n",
    "names = []\n",
    "\n",
    "knn = ('KNN', KNeighborsClassifier())\n",
    "tree = ('TREE', DecisionTreeClassifier(random_state=seed))\n",
    "naive_bayes = ('NB', GaussianNB())\n",
    "svm = ('SVM', SVC(random_state=seed))\n",
    "\n",
    "standard_scaler = ('StandardScaler', StandardScaler())\n",
    "min_max_scaler = ('MinMaxScaler', MinMaxScaler())\n",
    "\n",
    "# Original\n",
    "pipelines.append(('KNN-orig', Pipeline([knn])))\n",
    "pipelines.append(('TREE-orig', Pipeline([tree])))\n",
    "pipelines.append(('NB-orig', Pipeline([naive_bayes])))\n",
    "pipelines.append(('SVM-orig', Pipeline([svm])))\n",
    "\n",
    "# Padronizado\n",
    "pipelines.append(('KNN-padr', Pipeline([standard_scaler, knn])))\n",
    "pipelines.append(('TREE-padr', Pipeline([standard_scaler, tree])))\n",
    "pipelines.append(('NB-padr', Pipeline([standard_scaler, naive_bayes])))\n",
    "pipelines.append(('SVM-padr', Pipeline([standard_scaler, svm])))\n",
    "\n",
    "# Normalizado\n",
    "pipelines.append(('KNN-norm', Pipeline([min_max_scaler, knn])))\n",
    "pipelines.append(('TREE-norm', Pipeline([min_max_scaler, tree])))\n",
    "pipelines.append(('NB-norm', Pipeline([min_max_scaler, naive_bayes])))\n",
    "pipelines.append(('SVM-norm', Pipeline([min_max_scaler, svm])))\n",
    "\n",
    "for name, model in pipelines:\n",
    "    cv_results = cross_val_score(model, X_train, y_train, cv=kfold)\n",
    "    results.append(cv_results)\n",
    "    names.append(name)\n",
    "    msg = f\"{name}: {cv_results.mean():.3f} (+/- {cv_results.std():.3f})\" \n",
    "    print(msg)\n"
   ]
  },
  {
   "cell_type": "markdown",
   "metadata": {},
   "source": [
    "## Explorando mais alguns modelos\n",
    "\n",
    "Foram selecionados os modelos:\n",
    "- TREE - padronizado\n",
    "- SMV - padronizado"
   ]
  },
  {
   "cell_type": "code",
   "execution_count": 18,
   "metadata": {},
   "outputs": [
    {
     "name": "stdout",
     "output_type": "stream",
     "text": [
      "Fitting models...\n",
      "Fitting TREE...\n",
      "Fitting 5 folds for each of 24 candidates, totalling 120 fits\n",
      "Fitting SVM...\n",
      "Fitting 5 folds for each of 8 candidates, totalling 40 fits\n",
      "Best SVM Params: {'model__C': 1000, 'model__decision_function_shape': 'ovo', 'model__gamma': 0.01}\n",
      "Best TREE Params: {'model__criterion': 'entropy', 'model__max_depth': 10, 'model__max_features': 'sqrt'}\n"
     ]
    }
   ],
   "source": [
    "from sklearn.model_selection import GridSearchCV\n",
    "\n",
    "param_grid_tree = {\n",
    "    'model__max_depth': [None, 10, 20, 30],\n",
    "    'model__criterion': ['gini', 'entropy', 'log_loss'],\n",
    "    'model__max_features': ['sqrt', 'log2'],\n",
    "}\n",
    "\n",
    "\n",
    "param_grid_svm = {\n",
    "    'model__C': [100, 1000],\n",
    "    'model__gamma': [0.1, 0.01],\n",
    "    'model__decision_function_shape': ['ovo', 'ovr'],\n",
    "}\n",
    "\n",
    "# GridSearch para cada modelo\n",
    "grid_tree = GridSearchCV(Pipeline([('scaler', StandardScaler()), ('model', DecisionTreeClassifier(random_state=seed))]), param_grid_tree, cv=kfold, verbose=1)\n",
    "grid_svm = GridSearchCV(Pipeline([('scaler', StandardScaler()), ('model', SVC(random_state=seed))]), param_grid_svm, cv=kfold, verbose=1)\n",
    "# Ajustar e encontrar os melhores parâmetros\n",
    "print(\"Fitting models...\")\n",
    "print(\"Fitting TREE...\")\n",
    "grid_tree.fit(X_train, y_train)\n",
    "print(\"Fitting SVM...\")\n",
    "grid_svm.fit(X_train, y_train)\n",
    "\n",
    "# Exibir os melhores parâmetros\n",
    "print(\"Best SVM Params:\", grid_svm.best_params_)\n",
    "print(\"Best TREE Params:\", grid_tree.best_params_)\n"
   ]
  },
  {
   "cell_type": "markdown",
   "metadata": {},
   "source": [
    "### Comparação com model não otimizado"
   ]
  },
  {
   "cell_type": "code",
   "execution_count": 19,
   "metadata": {},
   "outputs": [
    {
     "name": "stdout",
     "output_type": "stream",
     "text": [
      "TREE-padr: 0.631 (+/- 0.005)\n",
      "SVM-padr: 0.687 (+/- 0.005)\n",
      "TREE-padr-otm: 0.607 (+/- 0.017)\n",
      "SVM-padr-otm: 0.706 (+/- 0.007)\n"
     ]
    }
   ],
   "source": [
    "pipelines = []\n",
    "results = []\n",
    "names = []\n",
    "\n",
    "tree = ('TREE', DecisionTreeClassifier(random_state=seed))\n",
    "svm = ('SVM', SVC(random_state=seed))\n",
    "tree_otm = ('TREE_OTM', DecisionTreeClassifier(random_state=seed, criterion='entropy', max_depth=10, max_features='sqrt'))\n",
    "svm_otm = ('SVM_OTM', SVC(random_state=seed, C=1000, decision_function_shape='ovo', gamma=0.01))\n",
    "\n",
    "standard_scaler = ('StandardScaler', StandardScaler())\n",
    "\n",
    "pipelines.append(('TREE-padr', Pipeline([standard_scaler, tree])))\n",
    "pipelines.append(('SVM-padr', Pipeline([standard_scaler, svm])))\n",
    "pipelines.append(('TREE-padr-otm', Pipeline([standard_scaler, tree_otm])))\n",
    "pipelines.append(('SVM-padr-otm', Pipeline([standard_scaler, svm_otm])))\n",
    "\n",
    "\n",
    "for name, model in pipelines:\n",
    "    cv_results = cross_val_score(model, X_train, y_train, cv=kfold)\n",
    "    results.append(cv_results)\n",
    "    names.append(name)\n",
    "    msg = f\"{name}: {cv_results.mean():.3f} (+/- {cv_results.std():.3f})\" \n",
    "    print(msg)"
   ]
  },
  {
   "cell_type": "markdown",
   "metadata": {},
   "source": [
    "## Tratamento de outliers"
   ]
  },
  {
   "cell_type": "code",
   "execution_count": 20,
   "metadata": {},
   "outputs": [
    {
     "name": "stdout",
     "output_type": "stream",
     "text": [
      "Removidos 339 outliers\n"
     ]
    }
   ],
   "source": [
    "from scipy import stats\n",
    "import numpy as np\n",
    "\n",
    "z_scores = np.abs(stats.zscore(df.select_dtypes(include=np.number)))\n",
    "df_clean = df[(z_scores < 3).all(axis=1)]\n",
    "\n",
    "print(f\"Removidos {df.shape[0] - df_clean.shape[0]} outliers\")\n",
    "df = df_clean"
   ]
  },
  {
   "cell_type": "code",
   "execution_count": 21,
   "metadata": {},
   "outputs": [],
   "source": [
    "# Refazendo a separação das features e target e a divisão entre treino e teste\n",
    "X = df.drop('class', axis=1)\n",
    "y = df['class']\n",
    "\n",
    "X_train, X_test, y_train, y_test = train_test_split(X, y, test_size=0.3, random_state=seed, shuffle=True, stratify=y)"
   ]
  },
  {
   "cell_type": "code",
   "execution_count": 22,
   "metadata": {},
   "outputs": [
    {
     "name": "stdout",
     "output_type": "stream",
     "text": [
      "SVM-padr-otm: 0.708 (+/- 0.002)\n"
     ]
    }
   ],
   "source": [
    "# Nova avaliação do modelo SVM com os dados limpos\n",
    "svm_otm = ('SVM_OTM', SVC(random_state=seed, C=1000, decision_function_shape='ovo', gamma=0.01))\n",
    "pipeline = Pipeline([standard_scaler, svm_otm])\n",
    "cv_results = cross_val_score(pipeline, X_train, y_train, cv=kfold)\n",
    "msg = f\"{name}: {cv_results.mean():.3f} (+/- {cv_results.std():.3f})\"\n",
    "print(msg)"
   ]
  },
  {
   "cell_type": "markdown",
   "metadata": {},
   "source": [
    "Sem ganho"
   ]
  },
  {
   "cell_type": "markdown",
   "metadata": {},
   "source": [
    "## Verificação de drop de coluna"
   ]
  },
  {
   "cell_type": "code",
   "execution_count": 23,
   "metadata": {},
   "outputs": [
    {
     "name": "stdout",
     "output_type": "stream",
     "text": [
      "    age  gender  height_cm  weight_kg  body fat_%  diastolic  systolic  \\\n",
      "0  27.0       1      172.3      75.24        21.3       80.0     130.0   \n",
      "1  25.0       1      165.0      55.80        15.7       77.0     126.0   \n",
      "2  31.0       1      179.6      78.00        20.1       92.0     152.0   \n",
      "3  32.0       1      174.5      71.10        18.4       76.0     147.0   \n",
      "4  28.0       1      173.8      67.70        17.1       70.0     127.0   \n",
      "\n",
      "   gripForce  sit-ups counts  broad jump_cm  class  \n",
      "0       54.9            60.0          217.0      2  \n",
      "1       36.4            53.0          229.0      0  \n",
      "2       44.8            49.0          181.0      2  \n",
      "3       41.4            53.0          219.0      1  \n",
      "4       43.5            45.0          217.0      1  \n",
      "SVM-padr-otm: 0.594 (+/- 0.016)\n"
     ]
    }
   ],
   "source": [
    "# sem sit and bend forward_cm\n",
    "df_drop = df.drop(['sit and bend forward_cm'], axis=1)\n",
    "print(df_drop.head())\n",
    "\n",
    "X = df_drop.drop('class', axis=1)\n",
    "y = df_drop['class']\n",
    "\n",
    "X_train, X_test, y_train, y_test = train_test_split(X, y, test_size=0.3, random_state=seed, shuffle=True, stratify=y)\n",
    "\n",
    "svm_otm = ('SVM_OTM', SVC(random_state=seed, C=1000, decision_function_shape='ovo', gamma=0.01))\n",
    "pipeline = Pipeline([standard_scaler, svm_otm])\n",
    "cv_results = cross_val_score(pipeline, X_train, y_train, cv=kfold)\n",
    "msg = f\"{name}: {cv_results.mean():.3f} (+/- {cv_results.std():.3f})\"\n",
    "print(msg)"
   ]
  },
  {
   "cell_type": "code",
   "execution_count": 24,
   "metadata": {},
   "outputs": [
    {
     "name": "stdout",
     "output_type": "stream",
     "text": [
      "    age  gender  height_cm  weight_kg  body fat_%  diastolic  systolic  \\\n",
      "0  27.0       1      172.3      75.24        21.3       80.0     130.0   \n",
      "1  25.0       1      165.0      55.80        15.7       77.0     126.0   \n",
      "2  31.0       1      179.6      78.00        20.1       92.0     152.0   \n",
      "3  32.0       1      174.5      71.10        18.4       76.0     147.0   \n",
      "4  28.0       1      173.8      67.70        17.1       70.0     127.0   \n",
      "\n",
      "   gripForce  sit and bend forward_cm  sit-ups counts  class  \n",
      "0       54.9                     18.4            60.0      2  \n",
      "1       36.4                     16.3            53.0      0  \n",
      "2       44.8                     12.0            49.0      2  \n",
      "3       41.4                     15.2            53.0      1  \n",
      "4       43.5                     27.1            45.0      1  \n",
      "SVM-padr-otm: 0.703 (+/- 0.004)\n"
     ]
    }
   ],
   "source": [
    "# sem broad jump_cm\n",
    "df_drop = df.drop(['broad jump_cm'], axis=1)\n",
    "print(df_drop.head())\n",
    "\n",
    "X = df_drop.drop('class', axis=1)\n",
    "y = df_drop['class']\n",
    "\n",
    "X_train, X_test, y_train, y_test = train_test_split(X, y, test_size=0.3, random_state=seed, shuffle=True, stratify=y)\n",
    "\n",
    "svm_otm = ('SVM_OTM', SVC(random_state=seed, C=1000, decision_function_shape='ovo', gamma=0.01))\n",
    "pipeline = Pipeline([standard_scaler, svm_otm])\n",
    "cv_results = cross_val_score(pipeline, X_train, y_train, cv=kfold)\n",
    "msg = f\"{name}: {cv_results.mean():.3f} (+/- {cv_results.std():.3f})\"\n",
    "print(msg)"
   ]
  },
  {
   "cell_type": "code",
   "execution_count": 25,
   "metadata": {},
   "outputs": [
    {
     "name": "stdout",
     "output_type": "stream",
     "text": [
      "    age  gender  height_cm  weight_kg  body fat_%  diastolic  systolic  \\\n",
      "0  27.0       1      172.3      75.24        21.3       80.0     130.0   \n",
      "1  25.0       1      165.0      55.80        15.7       77.0     126.0   \n",
      "2  31.0       1      179.6      78.00        20.1       92.0     152.0   \n",
      "3  32.0       1      174.5      71.10        18.4       76.0     147.0   \n",
      "4  28.0       1      173.8      67.70        17.1       70.0     127.0   \n",
      "\n",
      "   sit and bend forward_cm  sit-ups counts  broad jump_cm  class  \n",
      "0                     18.4            60.0          217.0      2  \n",
      "1                     16.3            53.0          229.0      0  \n",
      "2                     12.0            49.0          181.0      2  \n",
      "3                     15.2            53.0          219.0      1  \n",
      "4                     27.1            45.0          217.0      1  \n",
      "SVM-padr-otm: 0.693 (+/- 0.004)\n"
     ]
    }
   ],
   "source": [
    "# sem gripForce\n",
    "df_drop = df.drop(['gripForce'], axis=1)\n",
    "print(df_drop.head())\n",
    "\n",
    "X = df_drop.drop('class', axis=1)\n",
    "y = df_drop['class']\n",
    "\n",
    "X_train, X_test, y_train, y_test = train_test_split(X, y, test_size=0.3, random_state=seed, shuffle=True, stratify=y)\n",
    "\n",
    "svm_otm = ('SVM_OTM', SVC(random_state=seed, C=1000, decision_function_shape='ovo', gamma=0.01))\n",
    "pipeline = Pipeline([standard_scaler, svm_otm])\n",
    "cv_results = cross_val_score(pipeline, X_train, y_train, cv=kfold)\n",
    "msg = f\"{name}: {cv_results.mean():.3f} (+/- {cv_results.std():.3f})\"\n",
    "print(msg)"
   ]
  },
  {
   "cell_type": "code",
   "execution_count": 26,
   "metadata": {},
   "outputs": [
    {
     "name": "stdout",
     "output_type": "stream",
     "text": [
      "    age  gender  height_cm  weight_kg  body fat_%  diastolic  systolic  \\\n",
      "0  27.0       1      172.3      75.24        21.3       80.0     130.0   \n",
      "1  25.0       1      165.0      55.80        15.7       77.0     126.0   \n",
      "2  31.0       1      179.6      78.00        20.1       92.0     152.0   \n",
      "3  32.0       1      174.5      71.10        18.4       76.0     147.0   \n",
      "4  28.0       1      173.8      67.70        17.1       70.0     127.0   \n",
      "\n",
      "   gripForce  sit and bend forward_cm  broad jump_cm  class  \n",
      "0       54.9                     18.4          217.0      2  \n",
      "1       36.4                     16.3          229.0      0  \n",
      "2       44.8                     12.0          181.0      2  \n",
      "3       41.4                     15.2          219.0      1  \n",
      "4       43.5                     27.1          217.0      1  \n",
      "SVM-padr-otm: 0.627 (+/- 0.004)\n"
     ]
    }
   ],
   "source": [
    "# sem sit-ups counts\n",
    "df_drop = df.drop(['sit-ups counts'], axis=1)\n",
    "print(df_drop.head())\n",
    "\n",
    "X = df_drop.drop('class', axis=1)\n",
    "y = df_drop['class']\n",
    "\n",
    "X_train, X_test, y_train, y_test = train_test_split(X, y, test_size=0.3, random_state=seed, shuffle=True, stratify=y)\n",
    "\n",
    "svm_otm = ('SVM_OTM', SVC(random_state=seed, C=1000, decision_function_shape='ovo', gamma=0.01))\n",
    "pipeline = Pipeline([standard_scaler, svm_otm])\n",
    "cv_results = cross_val_score(pipeline, X_train, y_train, cv=kfold)\n",
    "msg = f\"{name}: {cv_results.mean():.3f} (+/- {cv_results.std():.3f})\"\n",
    "print(msg)"
   ]
  },
  {
   "cell_type": "code",
   "execution_count": 27,
   "metadata": {},
   "outputs": [
    {
     "name": "stdout",
     "output_type": "stream",
     "text": [
      "    age  gender  height_cm  weight_kg  body fat_%  diastolic  systolic  \\\n",
      "0  27.0       1      172.3      75.24        21.3       80.0     130.0   \n",
      "1  25.0       1      165.0      55.80        15.7       77.0     126.0   \n",
      "2  31.0       1      179.6      78.00        20.1       92.0     152.0   \n",
      "3  32.0       1      174.5      71.10        18.4       76.0     147.0   \n",
      "4  28.0       1      173.8      67.70        17.1       70.0     127.0   \n",
      "\n",
      "   gripForce  sit-ups counts  class  \n",
      "0       54.9            60.0      2  \n",
      "1       36.4            53.0      0  \n",
      "2       44.8            49.0      2  \n",
      "3       41.4            53.0      1  \n",
      "4       43.5            45.0      1  \n",
      "SVM-padr-otm: 0.577 (+/- 0.012)\n"
     ]
    }
   ],
   "source": [
    "# sem sit and bend forward_cm\n",
    "df_drop = df.drop(['sit and bend forward_cm', 'broad jump_cm'], axis=1)\n",
    "print(df_drop.head())\n",
    "\n",
    "X = df_drop.drop('class', axis=1)\n",
    "y = df_drop['class']\n",
    "\n",
    "X_train, X_test, y_train, y_test = train_test_split(X, y, test_size=0.3, random_state=seed, shuffle=True, stratify=y)\n",
    "\n",
    "svm_otm = ('SVM_OTM', SVC(random_state=seed, C=1000, decision_function_shape='ovo', gamma=0.01))\n",
    "pipeline = Pipeline([standard_scaler, svm_otm])\n",
    "cv_results = cross_val_score(pipeline, X_train, y_train, cv=kfold)\n",
    "msg = f\"{name}: {cv_results.mean():.3f} (+/- {cv_results.std():.3f})\"\n",
    "print(msg)"
   ]
  },
  {
   "cell_type": "code",
   "execution_count": 28,
   "metadata": {},
   "outputs": [
    {
     "name": "stdout",
     "output_type": "stream",
     "text": [
      "    age  gender  height_cm  weight_kg  body fat_%  diastolic  systolic  \\\n",
      "0  27.0       1      172.3      75.24        21.3       80.0     130.0   \n",
      "1  25.0       1      165.0      55.80        15.7       77.0     126.0   \n",
      "2  31.0       1      179.6      78.00        20.1       92.0     152.0   \n",
      "3  32.0       1      174.5      71.10        18.4       76.0     147.0   \n",
      "4  28.0       1      173.8      67.70        17.1       70.0     127.0   \n",
      "\n",
      "   sit-ups counts  class  \n",
      "0            60.0      2  \n",
      "1            53.0      0  \n",
      "2            49.0      2  \n",
      "3            53.0      1  \n",
      "4            45.0      1  \n",
      "SVM-padr-otm: 0.548 (+/- 0.011)\n"
     ]
    }
   ],
   "source": [
    "# sem sit and bend forward_cm\n",
    "df_drop = df.drop(['sit and bend forward_cm', 'broad jump_cm', 'gripForce'], axis=1)\n",
    "print(df_drop.head())\n",
    "\n",
    "X = df_drop.drop('class', axis=1)\n",
    "y = df_drop['class']\n",
    "\n",
    "X_train, X_test, y_train, y_test = train_test_split(X, y, test_size=0.3, random_state=seed, shuffle=True, stratify=y)\n",
    "\n",
    "svm_otm = ('SVM_OTM', SVC(random_state=seed, C=1000, decision_function_shape='ovo', gamma=0.01))\n",
    "pipeline = Pipeline([standard_scaler, svm_otm])\n",
    "cv_results = cross_val_score(pipeline, X_train, y_train, cv=kfold)\n",
    "msg = f\"{name}: {cv_results.mean():.3f} (+/- {cv_results.std():.3f})\"\n",
    "print(msg)"
   ]
  },
  {
   "cell_type": "markdown",
   "metadata": {},
   "source": [
    "Sem ganho"
   ]
  },
  {
   "cell_type": "markdown",
   "metadata": {},
   "source": [
    "## Ajustando as labels"
   ]
  },
  {
   "cell_type": "code",
   "execution_count": 29,
   "metadata": {},
   "outputs": [
    {
     "name": "stdout",
     "output_type": "stream",
     "text": [
      "    age  gender  height_cm  weight_kg  body fat_%  diastolic  systolic  \\\n",
      "0  27.0       1      172.3      75.24        21.3       80.0     130.0   \n",
      "1  25.0       1      165.0      55.80        15.7       77.0     126.0   \n",
      "2  31.0       1      179.6      78.00        20.1       92.0     152.0   \n",
      "3  32.0       1      174.5      71.10        18.4       76.0     147.0   \n",
      "4  28.0       1      173.8      67.70        17.1       70.0     127.0   \n",
      "\n",
      "   gripForce  sit and bend forward_cm  sit-ups counts  broad jump_cm  class  \n",
      "0       54.9                     18.4            60.0          217.0      3  \n",
      "1       36.4                     16.3            53.0          229.0      1  \n",
      "2       44.8                     12.0            49.0          181.0      3  \n",
      "3       41.4                     15.2            53.0          219.0      2  \n",
      "4       43.5                     27.1            45.0          217.0      2  \n",
      "SVM-padr-otm: 0.706 (+/- 0.007)\n"
     ]
    }
   ],
   "source": [
    "df = pd.read_csv(file_path)\n",
    "df['gender'] = df['gender'].map({'M': 1, 'F': 2})\n",
    "df['class'] = df['class'].map({'A': 1, 'B': 2, 'C': 3, 'D': 4})\n",
    "print(df.head())\n",
    "\n",
    "X = df.drop('class', axis=1)\n",
    "y = df['class']\n",
    "\n",
    "X_train, X_test, y_train, y_test = train_test_split(X, y, test_size=0.3, random_state=seed, shuffle=True, stratify=y)\n",
    "\n",
    "svm_otm = ('SVM_OTM', SVC(random_state=seed, C=1000, decision_function_shape='ovo', gamma=0.01))\n",
    "pipeline = Pipeline([standard_scaler, svm_otm])\n",
    "cv_results = cross_val_score(pipeline, X_train, y_train, cv=kfold)\n",
    "msg = f\"{name}: {cv_results.mean():.3f} (+/- {cv_results.std():.3f})\"\n",
    "print(msg)"
   ]
  },
  {
   "cell_type": "markdown",
   "metadata": {},
   "source": [
    "## Ajustando porcentagem de treino"
   ]
  },
  {
   "cell_type": "code",
   "execution_count": 30,
   "metadata": {},
   "outputs": [
    {
     "name": "stdout",
     "output_type": "stream",
     "text": [
      "    age  gender  height_cm  weight_kg  body fat_%  diastolic  systolic  \\\n",
      "0  27.0       1      172.3      75.24        21.3       80.0     130.0   \n",
      "1  25.0       1      165.0      55.80        15.7       77.0     126.0   \n",
      "2  31.0       1      179.6      78.00        20.1       92.0     152.0   \n",
      "3  32.0       1      174.5      71.10        18.4       76.0     147.0   \n",
      "4  28.0       1      173.8      67.70        17.1       70.0     127.0   \n",
      "\n",
      "   gripForce  sit and bend forward_cm  sit-ups counts  broad jump_cm  class  \n",
      "0       54.9                     18.4            60.0          217.0      3  \n",
      "1       36.4                     16.3            53.0          229.0      1  \n",
      "2       44.8                     12.0            49.0          181.0      3  \n",
      "3       41.4                     15.2            53.0          219.0      2  \n",
      "4       43.5                     27.1            45.0          217.0      2  \n",
      "SVM-padr-otm: 0.706 (+/- 0.005)\n"
     ]
    }
   ],
   "source": [
    "df = pd.read_csv(file_path)\n",
    "df['gender'] = df['gender'].map({'M': 1, 'F': 2})\n",
    "df['class'] = df['class'].map({'A': 1, 'B': 2, 'C': 3, 'D': 4})\n",
    "print(df.head())\n",
    "X = df.drop('class', axis=1)\n",
    "y = df['class']\n",
    "\n",
    "X_train, X_test, y_train, y_test = train_test_split(X, y, test_size=0.25, random_state=seed, shuffle=True, stratify=y)\n",
    "\n",
    "\n",
    "svm_otm = ('SVM_OTM', SVC(random_state=seed, C=1000, decision_function_shape='ovo', gamma=0.01))\n",
    "pipeline = Pipeline([standard_scaler, svm_otm])\n",
    "cv_results = cross_val_score(pipeline, X_train, y_train, cv=kfold)\n",
    "msg = f\"{name}: {cv_results.mean():.3f} (+/- {cv_results.std():.3f})\"\n",
    "print(msg)"
   ]
  },
  {
   "cell_type": "markdown",
   "metadata": {},
   "source": [
    "# Finalização"
   ]
  },
  {
   "cell_type": "code",
   "execution_count": 31,
   "metadata": {},
   "outputs": [
    {
     "name": "stdout",
     "output_type": "stream",
     "text": [
      "0.7154370737755734\n",
      "              precision    recall  f1-score   support\n",
      "\n",
      "           1       0.70      0.87      0.77       808\n",
      "           2       0.58      0.57      0.57       803\n",
      "           3       0.70      0.64      0.67       807\n",
      "           4       0.92      0.78      0.84       808\n",
      "\n",
      "    accuracy                           0.72      3226\n",
      "   macro avg       0.72      0.72      0.72      3226\n",
      "weighted avg       0.72      0.72      0.72      3226\n",
      "\n",
      "[[-0.72060173 -0.76739928  0.44865209 ...  0.37332193  1.42786734\n",
      "   0.68824661]\n",
      " [-0.86708476 -0.76739928 -0.41761104 ...  0.12818012  0.93679556\n",
      "   0.99046547]\n",
      " [-0.42763568 -0.76739928  1.31491521 ... -0.3737769   0.65618312\n",
      "  -0.21840996]\n",
      " ...\n",
      " [-0.79384324 -0.76739928  1.16064918 ...  0.16320038  1.28756112\n",
      "   1.06602018]\n",
      " [ 1.98933423 -0.76739928  0.74531754 ... -0.54887818 -1.09764466\n",
      "  -0.49544391]\n",
      " [ 0.89071154  1.3031026  -1.41440696 ...  1.2721752  -0.46626666\n",
      "  -1.37691557]]\n",
      "       class  class_pred\n",
      "12586      3           3\n",
      "10876      2           1\n",
      "5239       4           4\n",
      "8062       2           2\n",
      "2366       3           3\n",
      "...      ...         ...\n",
      "8881       3           3\n",
      "1799       1           2\n",
      "3070       2           2\n",
      "6740       2           2\n",
      "3838       1           1\n",
      "\n",
      "[394 rows x 2 columns]\n",
      "0.7233502538071066\n"
     ]
    }
   ],
   "source": [
    "from sklearn.preprocessing import StandardScaler\n",
    "from sklearn.metrics import accuracy_score, classification_report\n",
    "\n",
    "df = pd.read_csv(file_path)\n",
    "df['gender'] = df['gender'].map({'M': 1, 'F': 2})\n",
    "df['class'] = df['class'].map({'A': 1, 'B': 2, 'C': 3, 'D': 4})\n",
    "\n",
    "# Amostragem aleatória que não passará pelo modelo e será usado para avaliar a generalização do modelo\n",
    "sampled_df = df.sample(n=394, random_state=42)\n",
    "\n",
    "df_final = df.drop(sampled_df.index)\n",
    "\n",
    "X = df_final.drop('class', axis=1)\n",
    "y = df_final['class']\n",
    "\n",
    "X_train, X_test, y_train, y_test = train_test_split(X, y, test_size=0.25, random_state=seed, shuffle=True, stratify=y)\n",
    "\n",
    "standard_scaler = StandardScaler().fit(X_train)\n",
    "X_train_scaled = standard_scaler.transform(X_train)\n",
    "model = SVC(random_state=seed, C=1000, decision_function_shape='ovo', gamma=0.01)\n",
    "model.fit(X_train_scaled, y_train)\n",
    "\n",
    "X_test_scaled = standard_scaler.transform(X_test)\n",
    "y_pred = model.predict(X_test_scaled)\n",
    "print(accuracy_score(y_test, y_pred))\n",
    "print(classification_report(y_test, y_pred))\n",
    "\n",
    "rescaledX = standard_scaler.transform(X)\n",
    "print(rescaledX)\n",
    "model.fit(rescaledX, y)\n",
    "\n",
    "y_pred_sample = model.predict(standard_scaler.transform(sampled_df.drop('class', axis=1)))\n",
    "sampled_df['class_pred'] = y_pred_sample\n",
    "print(sampled_df[['class', 'class_pred']])\n",
    "print(accuracy_score(sampled_df['class'], sampled_df['class_pred']))"
   ]
  },
  {
   "cell_type": "markdown",
   "metadata": {},
   "source": [
    "## Exportação do modelo"
   ]
  },
  {
   "cell_type": "code",
   "execution_count": 32,
   "metadata": {},
   "outputs": [
    {
     "data": {
      "text/plain": [
       "['./scaler.pkl']"
      ]
     },
     "execution_count": 32,
     "metadata": {},
     "output_type": "execute_result"
    }
   ],
   "source": [
    "import joblib\n",
    "\n",
    "best_model = model\n",
    "joblib.dump(best_model, './best_model.pkl')\n",
    "joblib.dump(standard_scaler, './scaler.pkl')"
   ]
  },
  {
   "cell_type": "markdown",
   "metadata": {},
   "source": [
    "## Explorando mais os dados\n",
    "\n",
    "### Pós processamento"
   ]
  },
  {
   "cell_type": "code",
   "execution_count": 33,
   "metadata": {},
   "outputs": [
    {
     "name": "stdout",
     "output_type": "stream",
     "text": [
      "    age_group  class\n",
      "0       20-29      2\n",
      "1       30-39      2\n",
      "2       40-49      3\n",
      "3  50 ou mais      3\n"
     ]
    }
   ],
   "source": [
    "import pandas as pd\n",
    "\n",
    "file_path = './bodyPerformance.csv'\n",
    "df = pd.read_csv(file_path)\n",
    "df['gender'] = df['gender'].map({'M': 1, 'F': 2})\n",
    "df['class'] = df['class'].map({'A': 1, 'B': 2, 'C': 3, 'D': 4})\n",
    "\n",
    "# Definir a faixa etária para categorização (exemplo)\n",
    "def categorize_age(age):\n",
    "    if age < 20:\n",
    "        return 'Menor de 20'\n",
    "    elif 20 <= age < 30:\n",
    "        return '20-29'\n",
    "    elif 30 <= age < 40:\n",
    "        return '30-39'\n",
    "    elif 40 <= age < 50:\n",
    "        return '40-49'\n",
    "    else:\n",
    "        return '50 ou mais'\n",
    "\n",
    "# Adicionar coluna de faixa etária\n",
    "df['age_group'] = df['age'].apply(categorize_age)\n",
    "\n",
    "# Função para calcular a média de classificação\n",
    "def calculate_mean_classification(df, height_threshold, gender):\n",
    "    # Filtrar os dados\n",
    "    filtered_df = df[(df['height_cm'] >= height_threshold) & (df['gender'] == gender)]\n",
    "    \n",
    "    # Agrupar por faixa etária e calcular a média da classificação\n",
    "    mean_classification = filtered_df.groupby('age_group')['class'].mean().reset_index()\n",
    "    mean_classification['class'] = mean_classification['class'].round().astype(int)\n",
    "    return mean_classification\n",
    "\n",
    "# Parâmetros de entrada\n",
    "height_threshold = 170  # Altura mínima para o filtro\n",
    "gender = 2  # Gênero para o filtro ( 1->'M' ou 2->'F')\n",
    "\n",
    "# Calcular a média de classificação\n",
    "mean_classification = calculate_mean_classification(df, height_threshold, gender)\n",
    "\n",
    "# Mostrar o resultado\n",
    "print(mean_classification)\n"
   ]
  }
 ],
 "metadata": {
  "kernelspec": {
   "display_name": "sprint-4-ZTUPRqaA-py3.10",
   "language": "python",
   "name": "python3"
  },
  "language_info": {
   "codemirror_mode": {
    "name": "ipython",
    "version": 3
   },
   "file_extension": ".py",
   "mimetype": "text/x-python",
   "name": "python",
   "nbconvert_exporter": "python",
   "pygments_lexer": "ipython3",
   "version": "3.10.14"
  }
 },
 "nbformat": 4,
 "nbformat_minor": 2
}
